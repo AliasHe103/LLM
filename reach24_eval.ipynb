{
 "cells": [
  {
   "metadata": {},
   "cell_type": "markdown",
   "source": "# Reach24 Problem",
   "id": "8ceda83549fb7cf7"
  },
  {
   "metadata": {},
   "cell_type": "markdown",
   "source": "## Qwen-Max",
   "id": "fee9679c9545467e"
  },
  {
   "metadata": {
    "ExecuteTime": {
     "end_time": "2025-05-03T08:43:51.469851Z",
     "start_time": "2025-05-03T08:43:50.923874Z"
    }
   },
   "cell_type": "code",
   "source": [
    "import os\n",
    "\n",
    "from agent import Agent\n",
    "\n",
    "key = os.getenv(\"DASHSCOPE_API_KEY\")\n",
    "url = \"https://dashscope.aliyuncs.com/compatible-mode/v1\"\n",
    "name = \"qwen-max\"\n",
    "agent = Agent(\n",
    "    key,\n",
    "    url,\n",
    "    name\n",
    ")"
   ],
   "id": "a874eda8abbd27c",
   "outputs": [],
   "execution_count": 1
  },
  {
   "metadata": {
    "collapsed": true,
    "ExecuteTime": {
     "end_time": "2025-05-03T08:45:54.998868Z",
     "start_time": "2025-05-03T08:43:51.473293Z"
    }
   },
   "cell_type": "code",
   "source": [
    "sr = agent.eval(\n",
    "    problem_type=\"reach24\",\n",
    "    prompt_type=\"cot\",\n",
    "    shot_type=\"five_shot\",\n",
    "    run=True\n",
    ")\n",
    "\n",
    "print(f\"{name}, SR: {sr:.3%}\")"
   ],
   "id": "initial_id",
   "outputs": [
    {
     "name": "stdout",
     "output_type": "stream",
     "text": [
      "[Problem: reach24, Model: qwen-max, Method: cot, Shot: five_shot]\n",
      "Evaluating task1312...\n",
      "Evaluating task1313...\n",
      "Evaluating task1314...\n",
      "Evaluating task1315...\n",
      "Evaluating task1316...\n",
      "Evaluating task1317...\n",
      "Evaluating task1318...\n",
      "Evaluating task1319...\n",
      "Evaluating task1320...\n",
      "Evaluating task1321...\n",
      "Evaluating task1322...\n",
      "Evaluating task1323...\n",
      "Evaluating task1324...\n",
      "Evaluating task1325...\n",
      "Evaluating task1326...\n",
      "Evaluating task1327...\n",
      "Evaluating task1328...\n",
      "Evaluating task1329...\n",
      "Evaluating task1330...\n",
      "Evaluating task1331...\n",
      "Evaluating task1332...\n",
      "Evaluating task1333...\n",
      "Evaluating task1334...\n",
      "Evaluating task1335...\n",
      "Evaluating task1336...\n",
      "Evaluating task1337...\n",
      "Evaluating task1338...\n",
      "Evaluating task1339...\n",
      "Evaluating task1340...\n",
      "Evaluating task1341...\n",
      "Evaluating task1342...\n",
      "Evaluating task1343...\n",
      "Evaluating task1344...\n",
      "Evaluating task1345...\n",
      "Evaluating task1346...\n",
      "Evaluating task1347...\n",
      "Evaluating task1348...\n",
      "Evaluating task1349...\n",
      "Evaluating task1350...\n",
      "Evaluating task1351...\n",
      "Evaluating task1352...\n",
      "Evaluating task1353...\n",
      "Evaluating task1354...\n",
      "Evaluating task1355...\n",
      "Evaluating task1356...\n",
      "Evaluating task1357...\n",
      "Evaluating task1358...\n",
      "Evaluating task1359...\n",
      "Evaluating task1360...\n",
      "Evaluating task1361...\n",
      "results/reach24/cot/qwen-max(five_shot)2.json: 0.000%\n",
      "results/reach24/cot/qwen-max(five_shot)3.json: 0.000%\n",
      "qwen-max, SR: 0.000%\n"
     ]
    }
   ],
   "execution_count": 2
  }
 ],
 "metadata": {
  "kernelspec": {
   "display_name": "Python 3",
   "language": "python",
   "name": "python3"
  },
  "language_info": {
   "codemirror_mode": {
    "name": "ipython",
    "version": 2
   },
   "file_extension": ".py",
   "mimetype": "text/x-python",
   "name": "python",
   "nbconvert_exporter": "python",
   "pygments_lexer": "ipython2",
   "version": "2.7.6"
  }
 },
 "nbformat": 4,
 "nbformat_minor": 5
}

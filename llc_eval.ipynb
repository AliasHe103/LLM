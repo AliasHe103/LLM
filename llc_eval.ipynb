{
 "cells": [
  {
   "metadata": {},
   "cell_type": "markdown",
   "source": "# Last letter concatenation",
   "id": "8ceda83549fb7cf7"
  },
  {
   "metadata": {},
   "cell_type": "markdown",
   "source": "## Qwen-Max",
   "id": "fee9679c9545467e"
  },
  {
   "metadata": {
    "ExecuteTime": {
     "end_time": "2025-05-03T07:52:01.035989Z",
     "start_time": "2025-05-03T07:52:00.336010Z"
    }
   },
   "cell_type": "code",
   "source": [
    "import os\n",
    "\n",
    "from agents.agent import Agent\n",
    "\n",
    "key = os.getenv(\"DASHSCOPE_API_KEY\")\n",
    "url = \"https://dashscope.aliyuncs.com/compatible-mode/v1\"\n",
    "name = \"deepseek-v3\"\n",
    "agent = Agent(\n",
    "    key,\n",
    "    url,\n",
    "    name\n",
    ")"
   ],
   "id": "a874eda8abbd27c",
   "outputs": [],
   "execution_count": 1
  },
  {
   "metadata": {},
   "cell_type": "markdown",
   "source": "## Evaluate",
   "id": "f493634d70f4a35"
  },
  {
   "metadata": {
    "collapsed": true,
    "ExecuteTime": {
     "end_time": "2025-05-03T07:54:34.329189Z",
     "start_time": "2025-05-03T07:52:01.060901Z"
    }
   },
   "cell_type": "code",
   "source": [
    "sr = agent.eval(\n",
    "    problem_type=\"llc\",\n",
    "    prompt_type=\"cot\",\n",
    "    shot_type=\"five_shot\",\n",
    "    run=True\n",
    ")\n",
    "\n",
    "print(f\"{name}, SR: {sr:.3%}\")"
   ],
   "id": "initial_id",
   "outputs": [
    {
     "name": "stdout",
     "output_type": "stream",
     "text": [
      "[Problem: llc, Model: deepseek-v3, Method: cot, Shot: five_shot]\n",
      "Evaluating task10...\n",
      "Evaluating task20...\n",
      "Evaluating task30...\n",
      "Evaluating task40...\n",
      "Evaluating task50...\n",
      "Evaluating task60...\n",
      "Evaluating task70...\n",
      "Evaluating task80...\n",
      "Evaluating task90...\n",
      "results/llc/cot/deepseek-v3(five_shot)1.json: 1.0\n",
      "results/llc/cot/deepseek-v3(five_shot)2.json: 1.0\n",
      "deepseek-v3, SR: 100.000%\n"
     ]
    }
   ],
   "execution_count": 2
  }
 ],
 "metadata": {
  "kernelspec": {
   "display_name": "Python 3",
   "language": "python",
   "name": "python3"
  },
  "language_info": {
   "codemirror_mode": {
    "name": "ipython",
    "version": 2
   },
   "file_extension": ".py",
   "mimetype": "text/x-python",
   "name": "python",
   "nbconvert_exporter": "python",
   "pygments_lexer": "ipython2",
   "version": "2.7.6"
  }
 },
 "nbformat": 4,
 "nbformat_minor": 5
}

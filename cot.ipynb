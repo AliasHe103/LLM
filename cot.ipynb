{
 "cells": [
  {
   "metadata": {},
   "cell_type": "markdown",
   "source": "# Reach24 Problem",
   "id": "8ceda83549fb7cf7"
  },
  {
   "metadata": {},
   "cell_type": "markdown",
   "source": "## CoT",
   "id": "fee9679c9545467e"
  },
  {
   "metadata": {
    "ExecuteTime": {
     "end_time": "2025-04-29T12:02:11.942195Z",
     "start_time": "2025-04-29T12:02:11.381218Z"
    }
   },
   "cell_type": "code",
   "source": [
    "import os\n",
    "\n",
    "from agent import Agent\n",
    "\n",
    "key = os.getenv(\"DASHSCOPE_API_KEY\")\n",
    "url = \"https://dashscope.aliyuncs.com/compatible-mode/v1\"\n",
    "name = \"qwen-max\"\n",
    "agent = Agent(\n",
    "    key,\n",
    "    url,\n",
    "    name\n",
    ")"
   ],
   "id": "a874eda8abbd27c",
   "outputs": [],
   "execution_count": 1
  },
  {
   "metadata": {
    "collapsed": true,
    "ExecuteTime": {
     "end_time": "2025-04-29T12:03:15.597053Z",
     "start_time": "2025-04-29T12:03:06.543612Z"
    }
   },
   "cell_type": "code",
   "source": [
    "sr = agent.eval(\n",
    "    problem_type=\"reach24\",\n",
    "    prompt_type=\"cot\",\n",
    "    shot_type=\"five_shot\",\n",
    "    run=True\n",
    ")\n",
    "\n",
    "print(f\"{name}, SR: {sr}\")"
   ],
   "id": "initial_id",
   "outputs": [
    {
     "name": "stdout",
     "output_type": "stream",
     "text": [
      "[Problem: reach24, Model: qwen-max, Method: cot, Shot: five_shot]\n",
      "Evaluating task1312...\n",
      "results/reach24/cot/qwen-max(five_shot)2.json: 0.0\n"
     ]
    },
    {
     "ename": "SyntaxError",
     "evalue": "'(' was never closed (<string>, line 1)",
     "output_type": "error",
     "traceback": [
      "Traceback \u001B[36m(most recent call last)\u001B[39m:\n",
      "  File \u001B[92m/opt/anaconda3/envs/llm/lib/python3.11/site-packages/IPython/core/interactiveshell.py:3667\u001B[39m in \u001B[95mrun_code\u001B[39m\n    exec(code_obj, self.user_global_ns, self.user_ns)\n",
      "  Cell \u001B[92mIn[2]\u001B[39m\u001B[92m, line 1\u001B[39m\n    sr = agent.eval(\n",
      "  File \u001B[92m~/PycharmProjects/LLM/agent.py:54\u001B[39m in \u001B[95meval\u001B[39m\n    sr = self.problem.evaluate_result(self.name, prompt_type)\n",
      "  File \u001B[92m~/PycharmProjects/LLM/problems/reach24.py:92\u001B[39m in \u001B[95mevaluate_result\u001B[39m\n    if self.validate_answer(index, ans):\n",
      "\u001B[36m  \u001B[39m\u001B[36mFile \u001B[39m\u001B[32m~/PycharmProjects/LLM/problems/reach24.py:66\u001B[39m\u001B[36m in \u001B[39m\u001B[35mvalidate_answer\u001B[39m\n\u001B[31m    \u001B[39m\u001B[31mresult = eval(exp, {'__builtins__': None}, {})\u001B[39m\n",
      "  \u001B[36mFile \u001B[39m\u001B[32m<string>:1\u001B[39m\n\u001B[31m    \u001B[39m\u001B[31m((10-4)*(10-4)\u001B[39m\n    ^\n\u001B[31mSyntaxError\u001B[39m\u001B[31m:\u001B[39m '(' was never closed\n"
     ]
    }
   ],
   "execution_count": 2
  }
 ],
 "metadata": {
  "kernelspec": {
   "display_name": "Python 3",
   "language": "python",
   "name": "python3"
  },
  "language_info": {
   "codemirror_mode": {
    "name": "ipython",
    "version": 2
   },
   "file_extension": ".py",
   "mimetype": "text/x-python",
   "name": "python",
   "nbconvert_exporter": "python",
   "pygments_lexer": "ipython2",
   "version": "2.7.6"
  }
 },
 "nbformat": 4,
 "nbformat_minor": 5
}
